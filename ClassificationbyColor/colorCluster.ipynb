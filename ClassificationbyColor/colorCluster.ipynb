{
 "cells": [
  {
   "cell_type": "code",
   "execution_count": 5,
   "metadata": {},
   "outputs": [
    {
     "name": "stdout",
     "output_type": "stream",
     "text": [
      "{'red': [2, 5], 'green': [4, 6], 'blue': [1, 3]}\n"
     ]
    }
   ],
   "source": [
    "# Using the mean of color value in the image\n",
    "\n",
    "from PIL import Image\n",
    "import numpy as np\n",
    "\n",
    "image_folder = 'data/'\n",
    "\n",
    "images = [Image.open(f'{image_folder}image{i}.png').convert('RGB') for i in range(1, 7)]\n",
    "\n",
    "def average_color(image, sample_size=100):\n",
    "    data = np.array(image)\n",
    "    pixels = data.reshape(-1, data.shape[2])\n",
    "    indices = np.random.choice(pixels.shape[0], sample_size, replace=False)\n",
    "    selected_pixels = pixels[indices]\n",
    "    mean_color = selected_pixels.mean(axis=0)\n",
    "    return mean_color\n",
    "\n",
    "clusters = { 'red': [], 'green': [], 'blue': [] }\n",
    "for i, img in enumerate(images):\n",
    "    color = average_color(img)\n",
    "    if np.linalg.norm(color - np.array([255, 0, 0])) < np.linalg.norm(color - np.array([0, 255, 0])) and np.linalg.norm(color - np.array([255, 0, 0])) < np.linalg.norm(color - np.array([0, 0, 255])):\n",
    "        clusters['red'].append(i+1)\n",
    "    elif np.linalg.norm(color - np.array([0, 255, 0])) < np.linalg.norm(color - np.array([0, 0, 255])):\n",
    "        clusters['green'].append(i+1)\n",
    "    else:\n",
    "        clusters['blue'].append(i+1)\n",
    "\n",
    "print(clusters)\n"
   ]
  }
 ],
 "metadata": {
  "kernelspec": {
   "display_name": "Python 3",
   "language": "python",
   "name": "python3"
  },
  "language_info": {
   "codemirror_mode": {
    "name": "ipython",
    "version": 3
   },
   "file_extension": ".py",
   "mimetype": "text/x-python",
   "name": "python",
   "nbconvert_exporter": "python",
   "pygments_lexer": "ipython3",
   "version": "3.10.8"
  }
 },
 "nbformat": 4,
 "nbformat_minor": 2
}
