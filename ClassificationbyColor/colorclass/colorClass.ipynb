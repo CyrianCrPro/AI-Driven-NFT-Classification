{
 "cells": [
  {
   "cell_type": "code",
   "execution_count": 5,
   "metadata": {},
   "outputs": [
    {
     "name": "stdout",
     "output_type": "stream",
     "text": [
      "{'red': [2, 5], 'green': [4, 6], 'blue': [1, 3]}\n"
     ]
    }
   ],
   "source": [
    "# Using the mean of color value in the image\n",
    "\n",
    "from PIL import Image\n",
    "import numpy as np\n",
    "\n",
    "image_folder = 'data/'\n",
    "\n",
    "images = [Image.open(f'{image_folder}image{i}.png').convert('RGB') for i in range(1, 7)]\n",
    "\n",
    "def average_color(image, sample_size=100):\n",
    "    data = np.array(image)\n",
    "    pixels = data.reshape(-1, data.shape[2])\n",
    "    indices = np.random.choice(pixels.shape[0], sample_size, replace=False)\n",
    "    selected_pixels = pixels[indices]\n",
    "    mean_color = selected_pixels.mean(axis=0)\n",
    "    return mean_color\n",
    "\n",
    "clusters = { 'red': [], 'green': [], 'blue': [] }\n",
    "for i, img in enumerate(images):\n",
    "    color = average_color(img)\n",
    "    if np.linalg.norm(color - np.array([255, 0, 0])) < np.linalg.norm(color - np.array([0, 255, 0])) and np.linalg.norm(color - np.array([255, 0, 0])) < np.linalg.norm(color - np.array([0, 0, 255])):\n",
    "        clusters['red'].append(i+1)\n",
    "    elif np.linalg.norm(color - np.array([0, 255, 0])) < np.linalg.norm(color - np.array([0, 0, 255])):\n",
    "        clusters['green'].append(i+1)\n",
    "    else:\n",
    "        clusters['blue'].append(i+1)\n",
    "\n",
    "print(clusters)\n"
   ]
  },
  {
   "cell_type": "code",
   "execution_count": 8,
   "metadata": {},
   "outputs": [
    {
     "name": "stdout",
     "output_type": "stream",
     "text": [
      "Centroids of the clusters (RGB values):\n",
      "[[ 26.5 235.   70. ]\n",
      " [194.    3.    3. ]\n",
      " [  7.5  78.5 243.5]]\n",
      "Image to cluster mapping:\n",
      "Image 1 is closest to cluster 3\n",
      "Image 2 is closest to cluster 2\n",
      "Image 3 is closest to cluster 3\n",
      "Image 4 is closest to cluster 1\n",
      "Image 5 is closest to cluster 2\n",
      "Image 6 is closest to cluster 1\n"
     ]
    }
   ],
   "source": [
    "# Using K-Means to find centroids and automatically create clusters\n",
    "\n",
    "from PIL import Image\n",
    "import numpy as np\n",
    "from sklearn.cluster import KMeans\n",
    "\n",
    "image_folder = 'data/'\n",
    "\n",
    "images = [Image.open(f'{image_folder}image{i}.png').convert('RGB') for i in range(1, 7)]\n",
    "\n",
    "def extract_grid_pixels(image, grid_size=10):\n",
    "    data = np.array(image)\n",
    "    rows, cols, _ = data.shape\n",
    "    sampled_pixels = []\n",
    "    row_step, col_step = rows // grid_size, cols // grid_size\n",
    "\n",
    "    for row in range(0, rows, row_step):\n",
    "        for col in range(0, cols, col_step):\n",
    "            sampled_pixels.append(data[row, col])\n",
    "\n",
    "    return np.array(sampled_pixels)\n",
    "\n",
    "def cluster_pixels(images, n_clusters=3):\n",
    "    all_pixels = []\n",
    "    for img in images:\n",
    "        pixels = extract_grid_pixels(img)\n",
    "        all_pixels.append(pixels)\n",
    "\n",
    "    all_pixels = np.vstack(all_pixels)\n",
    "    kmeans = KMeans(n_clusters=n_clusters, random_state=0).fit(all_pixels)\n",
    "    return kmeans\n",
    "\n",
    "kmeans = cluster_pixels(images)\n",
    "\n",
    "print(\"Centroids of the clusters (RGB values):\")\n",
    "print(kmeans.cluster_centers_)\n",
    "\n",
    "image_clusters = []\n",
    "for i, img in enumerate(images):\n",
    "    pixels = extract_grid_pixels(img)\n",
    "    mean_color = pixels.mean(axis=0)\n",
    "    closest_centroid_idx = np.argmin(np.linalg.norm(kmeans.cluster_centers_ - mean_color, axis=1))\n",
    "    image_clusters.append(closest_centroid_idx)\n",
    "\n",
    "print(\"Image to cluster mapping:\")\n",
    "for i, cluster_idx in enumerate(image_clusters):\n",
    "    print(f\"Image {i+1} is closest to cluster {cluster_idx + 1}\")"
   ]
  }
 ],
 "metadata": {
  "kernelspec": {
   "display_name": "Python 3",
   "language": "python",
   "name": "python3"
  },
  "language_info": {
   "codemirror_mode": {
    "name": "ipython",
    "version": 3
   },
   "file_extension": ".py",
   "mimetype": "text/x-python",
   "name": "python",
   "nbconvert_exporter": "python",
   "pygments_lexer": "ipython3",
   "version": "3.10.8"
  }
 },
 "nbformat": 4,
 "nbformat_minor": 2
}
